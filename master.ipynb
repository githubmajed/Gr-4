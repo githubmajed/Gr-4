{
 "cells": [
  {
   "cell_type": "code",
   "execution_count": 33,
   "metadata": {},
   "outputs": [],
   "source": [
    "import csv\n",
    "import re\n",
    "import os, sys\n",
    "import shelve\n",
    "from isort import stream\n",
    "from majed_modules.multi import mysort\n",
    "from poppler import load_from_file\n",
    "from pathlib import Path\n",
    "from openpyxl import Workbook, load_workbook\n",
    "from openpyxl.styles import stylesheet\n",
    "from openpyxl.formatting import formatting\n",
    "from majed_modules.multi import basic_salary_dictionary"
   ]
  },
  {
   "cell_type": "code",
   "execution_count": 34,
   "metadata": {},
   "outputs": [],
   "source": [
    "def mysort(item):\n",
    "    date_regex = re.compile(r\"Payroll for (\\d*)/ (\\d{4})\")\n",
    "    date = date_regex.search(item)\n",
    "    m = date.group(1)\n",
    "    y = date.group(2)\n",
    "    m_y = y[2:4] + m\n",
    "    return int(m_y)"
   ]
  },
  {
   "cell_type": "code",
   "execution_count": 35,
   "metadata": {},
   "outputs": [],
   "source": [
    "def main(stream):\n",
    "    '''\n",
    "    Insert a path and returns sorted pages list\n",
    "    '''\n",
    "    list_of_all_pages = []\n",
    "    for p in Path(stream).iterdir():\n",
    "        if p.suffix == '.pdf':\n",
    "            doc = load_from_file(p)\n",
    "        if doc.pages == 2:\n",
    "            dual0 = doc.create_page(0)\n",
    "            dual1 = doc.create_page(1)\n",
    "            txt1 = dual0.text()\n",
    "            txt2 = dual1.text()\n",
    "            mix = txt1 + txt2\n",
    "            list_of_all_pages.append(mix)\n",
    "        else:\n",
    "            singel = doc.create_page(0)\n",
    "            txt = singel.text()\n",
    "            list_of_all_pages.append(txt)\n",
    "\n",
    "    list_of_all_pages.sort(key=mysort)\n",
    "    return list_of_all_pages\n"
   ]
  },
  {
   "cell_type": "code",
   "execution_count": 36,
   "metadata": {},
   "outputs": [],
   "source": [
    "path = ''\n",
    "allpages = main('./Assets/Waleed Moasbil')"
   ]
  },
  {
   "cell_type": "code",
   "execution_count": 37,
   "metadata": {},
   "outputs": [],
   "source": [
    "def basic_salary_dictionary(args):\n",
    "    Basic_Salary_Dictionary = {}\n",
    "    for bs in args:\n",
    "        # bsx = re.search(r'^0001[\\s]*(.*?)[\\s]*([\\d,.]*)[\\s]*(\\d{6})', bs,\n",
    "        # re.MULTILINE)\n",
    "        for l in bs.splitlines():\n",
    "            if re.search(r'^0001', l):\n",
    "                s = l.split()\n",
    "                bs_amount = s[-2]\n",
    "                bs_amount = float(bs_amount.replace(',', ''))\n",
    "                bs_date = s[-1]\n",
    "                if bs_date not in Basic_Salary_Dictionary:\n",
    "                    Basic_Salary_Dictionary[bs_date] = round(bs_amount, 3)\n",
    "\n",
    "    return Basic_Salary_Dictionary\n",
    "\n",
    "\n",
    "bsd = basic_salary_dictionary(allpages)\n"
   ]
  },
  {
   "cell_type": "code",
   "execution_count": 38,
   "metadata": {},
   "outputs": [
    {
     "name": "stdout",
     "output_type": "stream",
     "text": [
      "Nature nature of work 5%                           1.00                           0.0     201407  in\n",
      "Nature nature of work 5%                                                      -83.43     201406  out\n",
      "Nature nature of work 5%                                                      -40.37     201407  out\n",
      "Nature nature of work 5%                           5.00                           -208.58     201411  in\n",
      "Nature nature of work 5%                           1.00                           -40.37     201412  in\n",
      "Nature nature of work 5%                           5.00                           -223.47     201502  in\n",
      "Nature nature of work 5%                                                      -40.37     201503  out\n",
      "Nature nature of work 5%                           3.00                           -133.9     201506  in\n",
      "Nature nature of work 5%                           2.00                           -86.39     201508  in\n",
      "Nature nature of work 5%                                                      -43.2     201510  out\n",
      "Nature nature of work 5%                           14.00                           -604.73     201512  in\n",
      "Nature nature of work 5%                           11.00                           -475.15     201601  in\n",
      "Nature nature of work 5%                           3.00                           -138.52     201602  in\n",
      "Nature nature of work 5%                                                      -92.35     201602  out\n",
      "Nature nature of work 5%                           5.00                           -215.98     201603  in\n",
      "Nature nature of work 5%                                                      -186.6     201607  out\n",
      "Nature nature of work 5%                           4.00                           -186.6     201608  in\n",
      "Nature nature of work 5%                           5.00                           -241.03     201611  in\n",
      "Nature nature of work 5%                           7.00                           -326.55     201701  in\n",
      "Nature nature of work 5%                           2.00                           -103.3     201702  in\n",
      "Nature nature of work 5%                                                      -51.64     201702  out\n",
      "Nature nature of work 5%                           1.00                           -46.65     201703  in\n",
      "Nature nature of work 5%                           2.00                           -99.06     201704  in\n",
      "Nature nature of work 5%                           6.00                           -287.59     201705  in\n",
      "Nature nature of work 5%                           23.00                           -1139.19     201706  in\n",
      "Nature nature of work 5%                                                      -47.94     201705  out\n",
      "Nature nature of work 5%                           1.00                           -47.93     201707  in\n",
      "Nature nature of work 5%                           2.00                           -95.86     201708  in\n",
      "Nature nature of work 5%                           1.00                           -49.53     201711  in\n",
      "Nature nature of work 5%                                                      -297.18     201711  out\n",
      "Nature nature of work 5%                           1.00                           -47.93     201712  in\n",
      "Nature nature of work 5%                                                      -47.93     201712  out\n",
      "Nature nature of work 5%                                                      -191.73     201801  out\n",
      "Nature nature of work 5%                           1.00                           -47.93     201803  in\n",
      "Nature nature of work 5%                           2.00                           -101.54     201804  in\n",
      "Nature nature of work 5%                           16.00                           -786.12     201807  in\n",
      "Nature nature of work 5%                                                      -50.77     201809  out\n",
      "Nature nature of work 5%                                                      -147.4     201808  out\n",
      "Nature nature of work 5%                                                      -50.77     201811  out\n",
      "Nature nature of work 5%                           2.00                           -98.26     201812  in\n",
      "Nature nature of work 5%                           4.00                           -196.53     201901  in\n",
      "Nature nature of work 5%                           2.00                           -108.79     201902  in\n",
      "Nature nature of work 5%                           1.00                           -52.29     201904  in\n",
      "Nature nature of work 5%                                                      -52.3     201904  out\n",
      "Nature nature of work 5%                           10.00                           -506.08     201905  in\n",
      "Nature nature of work 5%                           2.00                           -101.22     201907  in\n",
      "Nature nature of work 5%                                                      -151.82     201907  out\n",
      "Nature nature of work 5%                           11.00                           -556.69     202001  in\n"
     ]
    },
    {
     "data": {
      "text/plain": [
       "-8929.560000000001"
      ]
     },
     "execution_count": 38,
     "metadata": {},
     "output_type": "execute_result"
    }
   ],
   "source": [
    "total = 0\n",
    "for page in allpages:\n",
    "    payroll = re.search(r'Payroll for (\\d*/ \\d{4})', page)\n",
    "    annual = re.search(r'^3000.+', page, re.MULTILINE)\n",
    "    modefied_payroll = payroll.group(1).replace(('/'), '')\n",
    "    modefied_payroll = modefied_payroll.replace((' '), '')\n",
    "    m = modefied_payroll[0:2]\n",
    "    y = modefied_payroll[2:]\n",
    "    m_y = y + m\n",
    "    count = 0\n",
    "    aux = []\n",
    "   \n",
    "    for line in page.splitlines():\n",
    "        s = line.split()\n",
    "        if re.search(r'^1110|^1111|^1115|^1113|^1320|^1315|^3000', line):\n",
    "            if re.search(r'^1315.+-', line):\n",
    "                wage = s[1]\n",
    "                disc = \"nature of work 5%\"\n",
    "                amount = float(s[-2].replace(',', ''))\n",
    "                date = s[-1]\n",
    "                if m_y not in date:\n",
    "                    if \"201903\" not in line:\n",
    "                        total+=amount\n",
    "                        print(\n",
    "                        f'{wage} {disc}                                                      {amount}     {date}  out'\n",
    "                    )\n",
    "            if annual:\n",
    "                sannual = annual.group().split()\n",
    "                if re.search(r'^1315', line):\n",
    "                    wage = s[1]\n",
    "                    disc = u\"بدل طبيعة عمل ٥٪\"\n",
    "                    amount = float(s[-2].replace(',', ''))\n",
    "                    date = s[-1]\n",
    "                    if m_y in date:\n",
    "                        if \"201903\" not in line:\n",
    "                            bsd315 = bsd.get(date)* 0.15\n",
    "                            dif = round(amount - bsd315, 2)\n",
    "                            total+=dif\n",
    "                            print(\n",
    "                            f'{wage} {disc}                           {sannual[-1]}                           {dif}     {date}  in'\n",
    "                        )\n",
    "\n",
    "\n",
    "\n",
    "\n",
    "total"
   ]
  },
  {
   "cell_type": "code",
   "execution_count": null,
   "metadata": {},
   "outputs": [],
   "source": []
  }
 ],
 "metadata": {
  "interpreter": {
   "hash": "6f68036b166bfc2856ae52885192e3c1bc78170780ed71a9c43338abd15ccf94"
  },
  "kernelspec": {
   "display_name": "Python 3.9.4 ('Zia-r77QTEct')",
   "language": "python",
   "name": "python3"
  },
  "language_info": {
   "codemirror_mode": {
    "name": "ipython",
    "version": 3
   },
   "file_extension": ".py",
   "mimetype": "text/x-python",
   "name": "python",
   "nbconvert_exporter": "python",
   "pygments_lexer": "ipython3",
   "version": "3.9.4"
  },
  "orig_nbformat": 4
 },
 "nbformat": 4,
 "nbformat_minor": 2
}
